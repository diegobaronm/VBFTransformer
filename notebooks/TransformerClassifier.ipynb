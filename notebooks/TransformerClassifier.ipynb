{
 "cells": [
  {
   "cell_type": "code",
   "execution_count": 34,
   "id": "32d419db",
   "metadata": {},
   "outputs": [],
   "source": [
    "import h5py"
   ]
  },
  {
   "cell_type": "code",
   "execution_count": 35,
   "id": "3eb7ef92",
   "metadata": {},
   "outputs": [],
   "source": [
    "data_bg = h5py.File('../data/SimpleQCD.h5', 'r')\n",
    "data_sig = h5py.File('../data/SimpleVBF.h5', 'r')"
   ]
  },
  {
   "cell_type": "code",
   "execution_count": 36,
   "id": "44c8da16",
   "metadata": {},
   "outputs": [],
   "source": [
    "import numpy as np\n",
    "from numpy.lib import recfunctions as rfn\n",
    "\n",
    "def create_data(events, n_particles, is_background):\n",
    "    result = events[:, :n_particles]\n",
    "    result = rfn.structured_to_unstructured(result)\n",
    "\n",
    "    if is_background:\n",
    "        labels = np.zeros(result.shape[0], dtype=np.float32)\n",
    "    else:\n",
    "        labels = np.ones(result.shape[0], dtype=np.float32)\n",
    "\n",
    "    return result, labels\n",
    "\n"
   ]
  },
  {
   "cell_type": "code",
   "execution_count": 37,
   "id": "62000b9b",
   "metadata": {},
   "outputs": [],
   "source": [
    "input_bg, labels_bg = create_data(data_bg[\"INPUTS\"][\"PARTICLES\"],5, is_background=True)\n",
    "input_sig, labels_sig = create_data(data_sig[\"INPUTS\"][\"PARTICLES\"],5, is_background=False)\n",
    "input_data = np.concatenate((input_bg, input_sig), axis=0)\n",
    "labels = np.concatenate((labels_bg, labels_sig), axis=0)"
   ]
  },
  {
   "cell_type": "code",
   "execution_count": 38,
   "id": "f5628f87",
   "metadata": {},
   "outputs": [
    {
     "name": "stdout",
     "output_type": "stream",
     "text": [
      "Using mps device\n"
     ]
    },
    {
     "data": {
      "text/plain": [
       "(148031, 5, 7)"
      ]
     },
     "execution_count": 38,
     "metadata": {},
     "output_type": "execute_result"
    }
   ],
   "source": [
    "import torch\n",
    "device = \"mps\" if torch.accelerator.is_available() else \"cpu\"\n",
    "print(f\"Using {device} device\")\n",
    "input_data.shape"
   ]
  },
  {
   "cell_type": "code",
   "execution_count": 39,
   "id": "f72fd084",
   "metadata": {},
   "outputs": [
    {
     "name": "stdout",
     "output_type": "stream",
     "text": [
      "Before transformation: [967.831      -4.109512   -0.9858682  31.766512   -1.          0.\n",
      "   1.       ]\n",
      "After transformation: [ 6.8750587  -0.8337518   0.5521394  -2.6360438   3.458444    0.75000006\n",
      "  0.          1.        ]\n"
     ]
    },
    {
     "data": {
      "text/plain": [
       "(148031, 5, 7)"
      ]
     },
     "execution_count": 39,
     "metadata": {},
     "output_type": "execute_result"
    }
   ],
   "source": [
    "import numpy as np\n",
    "from sklearn.base import BaseEstimator, TransformerMixin\n",
    "\n",
    "class LogScaler(BaseEstimator, TransformerMixin):\n",
    "    def __init__(self, offset=1e-3, add_mask = False):\n",
    "        self.offset = offset\n",
    "        self.add_mask = add_mask\n",
    "\n",
    "    def fit(self, X, y=None):\n",
    "        return self  # no fitting needed\n",
    "\n",
    "    def transform(self, X):\n",
    "        log = np.log(X + self.offset)\n",
    "        # Create a mask for nan values\n",
    "        mask = np.isnan(log)\n",
    "        if self.add_mask:\n",
    "            return np.hstack([mask, log])\n",
    "        return log\n",
    "\n",
    "class PhiTransformer(BaseEstimator, TransformerMixin):\n",
    "    def fit(self, X, y=None):\n",
    "        return self\n",
    "\n",
    "    def transform(self, X):\n",
    "        sin_phi = np.sin(X)\n",
    "        cos_phi = np.cos(X)\n",
    "        return np.hstack([sin_phi, cos_phi])\n",
    "\n",
    "\n",
    "from sklearn.compose import ColumnTransformer\n",
    "from sklearn.preprocessing import StandardScaler, MinMaxScaler\n",
    "\n",
    "\n",
    "energy_indices = [0]\n",
    "eta_indices = [1]\n",
    "phi_indices = [2]\n",
    "pt_indices = [3]\n",
    "btag_indices = [4]\n",
    "scaler = ColumnTransformer(\n",
    "    [('E', LogScaler(add_mask=False), energy_indices),\n",
    "    ('phi', PhiTransformer(), phi_indices),\n",
    "    ('eta',StandardScaler(), eta_indices),\n",
    "    ('pt',LogScaler(), pt_indices),\n",
    "    ('btag', MinMaxScaler(), btag_indices)\n",
    "    ],\n",
    "    remainder='passthrough'\n",
    ")\n",
    "\n",
    "print(\"Before transformation:\", input_data[:100].reshape(-1, 7)[0])\n",
    "test_data_transformed = scaler.fit_transform(input_data[:100].reshape(-1, 7))\n",
    "print(\"After transformation:\", test_data_transformed[0])\n",
    "input_data.shape"
   ]
  },
  {
   "cell_type": "code",
   "execution_count": 40,
   "id": "b1262ec0",
   "metadata": {},
   "outputs": [
    {
     "name": "stdout",
     "output_type": "stream",
     "text": [
      "(148031, 5, 8)\n",
      "(148031,)\n"
     ]
    }
   ],
   "source": [
    "input_data_transformed = scaler.fit_transform(input_data.reshape((-1,7)))\n",
    "input_data_transformed = input_data_transformed.reshape((input_data.shape[0],input_data.shape[1],8))\n",
    "X_train = input_data_transformed\n",
    "print(X_train.shape)\n",
    "print(labels.shape)\n",
    "\n",
    "# Find nans or infs in the data, show the indices\n",
    "if np.isnan(input_data).any():\n",
    "    nan_indices = np.argwhere(np.isnan(input_data))\n",
    "    # print(\"NaN indices:\", nan_indices)\n",
    "# Remove repeated indices from nan_indices    \n",
    "nan_indices = np.unique(nan_indices[:,0])\n",
    "# Remove this datapoints from X_train\n",
    "X_train = np.delete(X_train, nan_indices, axis=0)\n",
    "labels = np.delete(labels, nan_indices, axis=0)\n"
   ]
  },
  {
   "cell_type": "code",
   "execution_count": 41,
   "id": "876b018b",
   "metadata": {},
   "outputs": [],
   "source": [
    "# As tensors\n",
    "X_train_tensor = torch.tensor(X_train, dtype=torch.float32)\n",
    "y_train_tensor = torch.tensor(labels, dtype=torch.float32)\n"
   ]
  },
  {
   "cell_type": "code",
   "execution_count": 42,
   "id": "906a520d",
   "metadata": {},
   "outputs": [],
   "source": [
    "from torch.utils.data import TensorDataset, DataLoader\n",
    "\n",
    "# dataset = TensorDataset(sub_inputs, sub_target)\n",
    "dataset = TensorDataset(X_train_tensor, y_train_tensor)\n",
    "dataloader = DataLoader(dataset, batch_size=2*512, shuffle=True, drop_last=True, num_workers=10, persistent_workers=True)"
   ]
  },
  {
   "cell_type": "code",
   "execution_count": 43,
   "id": "b728bfcc",
   "metadata": {},
   "outputs": [],
   "source": [
    "import torch.nn as nn\n",
    "import torch.nn.functional as F\n",
    "\n",
    "class BasicTransformer(nn.Module):\n",
    "    def __init__(self, input_dim, nhead, num_layers):\n",
    "        super(BasicTransformer, self).__init__()\n",
    "        # Input embedding head\n",
    "        self.input_embedder = nn.Sequential(\n",
    "            nn.Linear(input_dim, input_dim),\n",
    "            nn.ReLU(),\n",
    "            nn.Dropout(0.1),\n",
    "            nn.Linear(input_dim, 64),\n",
    "        )\n",
    "        # Transformer Encoder\n",
    "        self.transformer_encoder = nn.TransformerEncoder(\n",
    "            nn.TransformerEncoderLayer(d_model=64, nhead=2,batch_first=True),\n",
    "            num_layers=num_layers, enable_nested_tensor=False)\n",
    "\n",
    "\n",
    "        self.output_classifier_head = nn.Sequential(\n",
    "            nn.Linear(64, 32),\n",
    "            nn.ReLU(),\n",
    "            nn.Linear(32, 1),\n",
    "        )\n",
    "\n",
    "    def mean_pooling(self,x):\n",
    "        \"\"\"\n",
    "        Mean pooling implementation\n",
    "        \"\"\"\n",
    "        # x: (batch_size, num_tokens, embed_dim)\n",
    "        return x.mean(dim=1)\n",
    "\n",
    "    def attention_pooling(self,x):\n",
    "\n",
    "        \"\"\"\n",
    "        Attention pooling implementation\n",
    "        \"\"\"\n",
    "        # x: (batch_size, num_tokens, embed_dim)\n",
    "        B = x.size(0)\n",
    "        pool_query = nn.Parameter(torch.randn(1, 1, 32)).to(device)\n",
    "        query = pool_query.expand(B, -1, -1)  # (B, 1, embed_dim)\n",
    "\n",
    "        # Compute attention scores\n",
    "        attn_scores = torch.matmul(query, x.transpose(1, 2))  # (B, 1, num_tokens)\n",
    "        attn_weights = torch.softmax(attn_scores, dim=-1)     # (B, 1, num_tokens)\n",
    "\n",
    "        # Weighted sum\n",
    "        pooled = torch.matmul(attn_weights, x)  # (B, 1, embed_dim)\n",
    "        return pooled.squeeze(1)\n",
    "\n",
    "    def forward(self, x):\n",
    "        x = self.input_embedder(x)\n",
    "        x = self.transformer_encoder(x)\n",
    "        # x = self.attention_pooling(x)\n",
    "        x = self.mean_pooling(x)\n",
    "        x = self.output_classifier_head(x)\n",
    "        return F.sigmoid(x)"
   ]
  },
  {
   "cell_type": "code",
   "execution_count": 44,
   "id": "0980fb5d",
   "metadata": {},
   "outputs": [],
   "source": [
    "model = BasicTransformer(input_dim=8, nhead=10, num_layers=5)\n",
    "model = model.to(device)\n",
    "optimizer = torch.optim.Adam(model.parameters(), lr=0.002, weight_decay=0.0001)\n",
    "criterion = nn.BCELoss(reduction='mean')"
   ]
  },
  {
   "cell_type": "code",
   "execution_count": 45,
   "id": "28ac1209",
   "metadata": {},
   "outputs": [
    {
     "name": "stdout",
     "output_type": "stream",
     "text": [
      "Total parameters: 1,408,521\n",
      "Approx model size: 5502.04 MB\n"
     ]
    }
   ],
   "source": [
    "num_params = sum(p.numel() for p in model.parameters())\n",
    "print(f\"Total parameters: {num_params:,}\")\n",
    "param_size_MB = num_params * 4 / 1024  # Approximate size in MB (assuming 4 bytes per parameter)\n",
    "print(f\"Approx model size: {param_size_MB:.2f} MB\")"
   ]
  },
  {
   "cell_type": "code",
   "execution_count": 46,
   "id": "84f7728d",
   "metadata": {},
   "outputs": [
    {
     "name": "stdout",
     "output_type": "stream",
     "text": [
      "Epoch 1/100, Loss: 0.6744\n",
      "Epoch 2/100, Loss: 0.4754\n",
      "Epoch 3/100, Loss: 0.4231\n",
      "Epoch 4/100, Loss: 0.4156\n",
      "Epoch 5/100, Loss: 0.4073\n",
      "Epoch 6/100, Loss: 0.3988\n",
      "Epoch 7/100, Loss: 0.3961\n",
      "Epoch 8/100, Loss: 0.3953\n",
      "Epoch 9/100, Loss: 0.3941\n",
      "Epoch 10/100, Loss: 0.3904\n",
      "Epoch 11/100, Loss: 0.3925\n",
      "Epoch 12/100, Loss: 0.3909\n",
      "Epoch 13/100, Loss: 0.3900\n",
      "Epoch 14/100, Loss: 0.3890\n",
      "Epoch 15/100, Loss: 0.3873\n",
      "Epoch 16/100, Loss: 0.3868\n",
      "Epoch 17/100, Loss: 0.3859\n",
      "Epoch 18/100, Loss: 0.3850\n",
      "Epoch 19/100, Loss: 0.3820\n",
      "Epoch 20/100, Loss: 0.3824\n",
      "Epoch 21/100, Loss: 0.3818\n",
      "Epoch 22/100, Loss: 0.3799\n",
      "Epoch 23/100, Loss: 0.3787\n",
      "Epoch 24/100, Loss: 0.3790\n",
      "Epoch 25/100, Loss: 0.3771\n",
      "Epoch 26/100, Loss: 0.3781\n",
      "Epoch 27/100, Loss: 0.3776\n",
      "Epoch 28/100, Loss: 0.3766\n",
      "Epoch 29/100, Loss: 0.3759\n",
      "Epoch 30/100, Loss: 0.3769\n",
      "Epoch 31/100, Loss: 0.3765\n",
      "Epoch 32/100, Loss: 0.3759\n",
      "Epoch 33/100, Loss: 0.3764\n",
      "Epoch 34/100, Loss: 0.3763\n",
      "Epoch 35/100, Loss: 0.3742\n",
      "Epoch 36/100, Loss: 0.3733\n",
      "Epoch 37/100, Loss: 0.3751\n",
      "Epoch 38/100, Loss: 0.3743\n",
      "Epoch 39/100, Loss: 0.3736\n",
      "Epoch 40/100, Loss: 0.3732\n",
      "Epoch 41/100, Loss: 0.3743\n",
      "Epoch 42/100, Loss: 0.3738\n",
      "Epoch 43/100, Loss: 0.3739\n",
      "Epoch 44/100, Loss: 0.3720\n",
      "Epoch 45/100, Loss: 0.3736\n",
      "Epoch 46/100, Loss: 0.3728\n",
      "Epoch 47/100, Loss: 0.3727\n",
      "Epoch 48/100, Loss: 0.3725\n",
      "Epoch 49/100, Loss: 0.3725\n",
      "Epoch 50/100, Loss: 0.3716\n",
      "Epoch 51/100, Loss: 0.3716\n",
      "Epoch 52/100, Loss: 0.3710\n",
      "Epoch 53/100, Loss: 0.3726\n",
      "Epoch 54/100, Loss: 0.3712\n",
      "Epoch 55/100, Loss: 0.3719\n",
      "Epoch 56/100, Loss: 0.3720\n",
      "Epoch 57/100, Loss: 0.3710\n",
      "Epoch 58/100, Loss: 0.3713\n",
      "Epoch 59/100, Loss: 0.3718\n",
      "Epoch 60/100, Loss: 0.3714\n",
      "Epoch 61/100, Loss: 0.3713\n",
      "Epoch 62/100, Loss: 0.3726\n",
      "Epoch 63/100, Loss: 0.3718\n",
      "Epoch 64/100, Loss: 0.3700\n",
      "Epoch 65/100, Loss: 0.3692\n",
      "Epoch 66/100, Loss: 0.3690\n",
      "Epoch 67/100, Loss: 0.3704\n",
      "Epoch 68/100, Loss: 0.3695\n",
      "Epoch 69/100, Loss: 0.3710\n",
      "Epoch 70/100, Loss: 0.3714\n",
      "Epoch 71/100, Loss: 0.3702\n",
      "Epoch 72/100, Loss: 0.3693\n",
      "Epoch 73/100, Loss: 0.3697\n",
      "Epoch 74/100, Loss: 0.3695\n",
      "Epoch 75/100, Loss: 0.3693\n",
      "Epoch 76/100, Loss: 0.3694\n",
      "Epoch 77/100, Loss: 0.3700\n",
      "Epoch 78/100, Loss: 0.3686\n",
      "Epoch 79/100, Loss: 0.3696\n",
      "Epoch 80/100, Loss: 0.3696\n",
      "Epoch 81/100, Loss: 0.3696\n",
      "Epoch 82/100, Loss: 0.3699\n",
      "Epoch 83/100, Loss: 0.3692\n",
      "Epoch 84/100, Loss: 0.3692\n",
      "Epoch 85/100, Loss: 0.3682\n",
      "Epoch 86/100, Loss: 0.3689\n",
      "Epoch 87/100, Loss: 0.3676\n",
      "Epoch 88/100, Loss: 0.3678\n",
      "Epoch 89/100, Loss: 0.3672\n",
      "Epoch 90/100, Loss: 0.3679\n",
      "Epoch 91/100, Loss: 0.3677\n",
      "Epoch 92/100, Loss: 0.3680\n",
      "Epoch 93/100, Loss: 0.3669\n",
      "Epoch 94/100, Loss: 0.3671\n",
      "Epoch 95/100, Loss: 0.3673\n",
      "Epoch 96/100, Loss: 0.3683\n",
      "Epoch 97/100, Loss: 0.3677\n",
      "Epoch 98/100, Loss: 0.3669\n",
      "Epoch 99/100, Loss: 0.3663\n",
      "Epoch 100/100, Loss: 0.3664\n"
     ]
    }
   ],
   "source": [
    "# Training loop with losses stored  in a list\n",
    "train_losses = []\n",
    "num_epochs = 100\n",
    "for epoch in range(num_epochs):\n",
    "    model.train()\n",
    "    running_loss = 0.0\n",
    "    for inputs, targets in dataloader:\n",
    "        optimizer.zero_grad()\n",
    "        inputs_device = inputs.to(device)\n",
    "        targets_device = targets.to(device)\n",
    "        outputs = model(inputs_device)\n",
    "        loss = criterion(outputs.squeeze(), targets_device)\n",
    "        loss.backward()\n",
    "        optimizer.step()\n",
    "        running_loss += loss.item()\n",
    "    avg_loss = running_loss / len(dataloader)\n",
    "    train_losses.append(avg_loss)\n",
    "    print(f\"Epoch {epoch+1}/{num_epochs}, Loss: {avg_loss:.4f}\")"
   ]
  },
  {
   "cell_type": "code",
   "execution_count": 47,
   "id": "fa8df864",
   "metadata": {},
   "outputs": [
    {
     "data": {
      "image/png": "[encoded data removed]",
      "text/plain": [
       "<Figure size 640x480 with 1 Axes>"
      ]
     },
     "metadata": {},
     "output_type": "display_data"
    }
   ],
   "source": [
    "import matplotlib.pyplot as plt\n",
    "plt.plot(train_losses)\n",
    "plt.xlabel('Epoch')\n",
    "plt.ylabel('Loss')\n",
    "plt.title('Training Loss')\n",
    "plt.show()"
   ]
  },
  {
   "cell_type": "code",
   "execution_count": 48,
   "id": "5caf1c2c",
   "metadata": {},
   "outputs": [
    {
     "data": {
      "text/plain": [
       "(0.0, 1.0)"
      ]
     },
     "execution_count": 48,
     "metadata": {},
     "output_type": "execute_result"
    },
    {
     "data": {
      "image/png": "[encoded data removed]",
      "text/plain": [
       "<Figure size 640x480 with 1 Axes>"
      ]
     },
     "metadata": {},
     "output_type": "display_data"
    }
   ],
   "source": [
    "model.to('cpu')\n",
    "model.eval()\n",
    "X_train_tensor = X_train_tensor.cpu()\n",
    "y_train_tensor = y_train_tensor.cpu()\n",
    "y_pred = model(X_train_tensor).detach()\n",
    "true_signal = y_pred[y_train_tensor==1].numpy()\n",
    "true_bkg = y_pred[y_train_tensor==0].numpy()\n",
    "\n",
    "import matplotlib.pyplot as plt\n",
    "plt.hist(true_signal, bins=20, histtype='step', label='Signal', density=True)\n",
    "plt.hist(true_bkg, bins=20, histtype='step', label='Background', density=True)\n",
    "plt.legend([\"true Signal\",\"true Background\"])\n",
    "plt.xlabel(\"Predicted Scores\")\n",
    "plt.ylabel(\"Counts\")\n",
    "plt.xlim((0.0,1.0))"
   ]
  },
  {
   "cell_type": "code",
   "execution_count": 49,
   "id": "a26e24f0",
   "metadata": {},
   "outputs": [
    {
     "name": "stdout",
     "output_type": "stream",
     "text": [
      "0.8319708680142688\n"
     ]
    }
   ],
   "source": [
    "# sklearn.metrics require exact value matches, so we need to round to 0 or 1\n",
    "final_prediction_score =y_pred.numpy()\n",
    "final_prediction = np.round(final_prediction_score)\n",
    "# Compute the accuracy_score\n",
    "from sklearn.metrics import accuracy_score\n",
    "accuracy = accuracy_score(y_train_tensor, final_prediction)\n",
    "print(accuracy)"
   ]
  },
  {
   "cell_type": "code",
   "execution_count": 50,
   "id": "8434bebf",
   "metadata": {},
   "outputs": [
    {
     "data": {
      "text/plain": [
       "np.float64(0.9205364172684607)"
      ]
     },
     "execution_count": 50,
     "metadata": {},
     "output_type": "execute_result"
    }
   ],
   "source": [
    "from sklearn.metrics import roc_auc_score\n",
    "\n",
    "roc_auc_score(y_train_tensor,final_prediction_score)"
   ]
  },
  {
   "cell_type": "code",
   "execution_count": null,
   "id": "d35b93c2",
   "metadata": {},
   "outputs": [],
   "source": []
  }
 ],
 "metadata": {
  "kernelspec": {
   "display_name": "vbf_ditau",
   "language": "python",
   "name": "python3"
  },
  "language_info": {
   "codemirror_mode": {
    "name": "ipython",
    "version": 3
   },
   "file_extension": ".py",
   "mimetype": "text/x-python",
   "name": "python",
   "nbconvert_exporter": "python",
   "pygments_lexer": "ipython3",
   "version": "3.12.2"
  }
 },
 "nbformat": 4,
 "nbformat_minor": 5
}
