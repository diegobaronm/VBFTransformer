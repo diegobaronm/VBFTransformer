{
 "cells": [
  {
   "cell_type": "code",
   "execution_count": 1,
   "id": "32d419db",
   "metadata": {},
   "outputs": [],
   "source": [
    "import h5py"
   ]
  },
  {
   "cell_type": "code",
   "execution_count": 2,
   "id": "3eb7ef92",
   "metadata": {},
   "outputs": [],
   "source": [
    "data_bg = h5py.File('../data/SimpleQCD.h5', 'r')\n",
    "data_sig = h5py.File('../data/SimpleVBF.h5', 'r')"
   ]
  },
  {
   "cell_type": "code",
   "execution_count": 3,
   "id": "44c8da16",
   "metadata": {},
   "outputs": [],
   "source": [
    "import numpy as np\n",
    "\n",
    "def create_single_event_data(event_info, n_particles):\n",
    "    result = np.empty((0), dtype=np.float32)\n",
    "    for i in range(n_particles):\n",
    "        particle_info = np.asarray(list(event_info[i]))\n",
    "        result = np.concatenate((result, particle_info), axis=0)\n",
    "\n",
    "    return result\n",
    "\n",
    "def create_data(events, n_particles, is_background):\n",
    "    result = np.empty((0, n_particles * 7), dtype=np.float32)\n",
    "    labels = np.empty((0, 1), dtype=np.float32)\n",
    "    for event_number in range(len(events)):\n",
    "        event_data = create_single_event_data(events[event_number], n_particles)\n",
    "        result = np.concatenate((result, [event_data]), axis=0)\n",
    "        labels = np.concatenate((labels, [[0.0 if is_background else 1.0]]), axis=0)\n",
    "\n",
    "    return result, labels\n",
    "\n"
   ]
  },
  {
   "cell_type": "code",
   "execution_count": 4,
   "id": "62000b9b",
   "metadata": {},
   "outputs": [],
   "source": [
    "input_bg, labels_bg = create_data(data_bg[\"INPUTS\"][\"PARTICLES\"],5, is_background=True)\n",
    "input_sig, labels_sig = create_data(data_sig[\"INPUTS\"][\"PARTICLES\"],5, is_background=False)\n",
    "input_data = np.concatenate((input_bg, input_sig), axis=0)\n",
    "labels = np.concatenate((labels_bg, labels_sig), axis=0)"
   ]
  },
  {
   "cell_type": "code",
   "execution_count": 5,
   "id": "f5628f87",
   "metadata": {},
   "outputs": [
    {
     "name": "stdout",
     "output_type": "stream",
     "text": [
      "Using mps device\n"
     ]
    },
    {
     "data": {
      "text/plain": [
       "(148031, 35)"
      ]
     },
     "execution_count": 5,
     "metadata": {},
     "output_type": "execute_result"
    }
   ],
   "source": [
    "import torch\n",
    "device = \"mps\" if torch.accelerator.is_available() else \"cpu\"\n",
    "print(f\"Using {device} device\")\n",
    "input_data.shape"
   ]
  },
  {
   "cell_type": "code",
   "execution_count": 6,
   "id": "b1262ec0",
   "metadata": {},
   "outputs": [],
   "source": [
    "# Scale the data to lie between -1 and 1 using sklearn StandardScaler\n",
    "from sklearn.preprocessing import MinMaxScaler\n",
    "scaler = MinMaxScaler()\n",
    "X_train = scaler.fit_transform(input_data)"
   ]
  },
  {
   "cell_type": "code",
   "execution_count": 7,
   "id": "876b018b",
   "metadata": {},
   "outputs": [],
   "source": [
    "# As tensors\n",
    "X_train_tensor = torch.tensor(X_train, dtype=torch.float32, device=device)\n",
    "y_train_tensor = torch.tensor(labels, dtype=torch.float32, device=device)"
   ]
  },
  {
   "cell_type": "code",
   "execution_count": 23,
   "id": "906a520d",
   "metadata": {},
   "outputs": [],
   "source": [
    "from torch.utils.data import TensorDataset, DataLoader\n",
    "\n",
    "# dataset = TensorDataset(sub_inputs, sub_target)\n",
    "dataset = TensorDataset(X_train_tensor, y_train_tensor)\n",
    "dataloader = DataLoader(dataset, batch_size=10000, shuffle=True, drop_last=True)"
   ]
  },
  {
   "cell_type": "code",
   "execution_count": 24,
   "id": "b728bfcc",
   "metadata": {},
   "outputs": [],
   "source": [
    "import torch.nn as nn\n",
    "import torch.nn.functional as F\n",
    "\n",
    "class BasicTransformer(nn.Module):\n",
    "    def __init__(self, input_dim, nhead, num_layers):\n",
    "        super(BasicTransformer, self).__init__()\n",
    "        # Input embedding head\n",
    "        self.input_embedder = nn.Sequential(\n",
    "            nn.Linear(input_dim, input_dim),\n",
    "            nn.ReLU(),\n",
    "            nn.Linear(input_dim, 32),\n",
    "        )\n",
    "        # Transformer Encoder\n",
    "        self.transformer_encoder = nn.TransformerEncoder(\n",
    "            nn.TransformerEncoderLayer(d_model=32, nhead=2,batch_first=True),\n",
    "            num_layers=num_layers, enable_nested_tensor=False)\n",
    "\n",
    "\n",
    "        self.output_classifier_head = nn.Sequential(\n",
    "            nn.Linear(32, 16),\n",
    "            nn.ReLU(),\n",
    "            nn.Linear(16, 1),\n",
    "        )\n",
    "\n",
    "    def mean_pooling(self,x):\n",
    "        \"\"\"\n",
    "        Mean pooling implementation\n",
    "        \"\"\"\n",
    "        # x: (batch_size, num_tokens, embed_dim)\n",
    "        return x.mean(dim=1)\n",
    "\n",
    "    def attention_pooling(self,x):\n",
    "\n",
    "        \"\"\"\n",
    "        Attention pooling implementation\n",
    "        \"\"\"\n",
    "        # x: (batch_size, num_tokens, embed_dim)\n",
    "        B = x.size(0)\n",
    "        pool_query = nn.Parameter(torch.randn(1, 1, 32)).to(device)\n",
    "        query = pool_query.expand(B, -1, -1)  # (B, 1, embed_dim)\n",
    "\n",
    "        # Compute attention scores\n",
    "        attn_scores = torch.matmul(query, x.transpose(1, 2))  # (B, 1, num_tokens)\n",
    "        attn_weights = torch.softmax(attn_scores, dim=-1)     # (B, 1, num_tokens)\n",
    "\n",
    "        # Weighted sum\n",
    "        pooled = torch.matmul(attn_weights, x)  # (B, 1, embed_dim)\n",
    "        return pooled.squeeze(1)\n",
    "\n",
    "    def forward(self, x):\n",
    "        x = self.input_embedder(x)\n",
    "        x = self.transformer_encoder(x)\n",
    "        # x = self.attention_pooling(x)\n",
    "        # x = self.mean_pooling(x)\n",
    "        x = self.output_classifier_head(x)\n",
    "        return torch.sigmoid(x)"
   ]
  },
  {
   "cell_type": "code",
   "execution_count": 25,
   "id": "0980fb5d",
   "metadata": {},
   "outputs": [],
   "source": [
    "model = BasicTransformer(input_dim=35, nhead=1, num_layers=2)\n",
    "model = model.to(device)\n",
    "optimizer = torch.optim.Adam(model.parameters(), lr=0.002, weight_decay=0.0001)\n",
    "criterion = nn.BCELoss(reduction='mean')"
   ]
  },
  {
   "cell_type": "code",
   "execution_count": 26,
   "id": "28ac1209",
   "metadata": {},
   "outputs": [
    {
     "name": "stdout",
     "output_type": "stream",
     "text": [
      "Total parameters: 277,965\n",
      "Approx model size: 1085.80 MB\n"
     ]
    }
   ],
   "source": [
    "num_params = sum(p.numel() for p in model.parameters())\n",
    "print(f\"Total parameters: {num_params:,}\")\n",
    "param_size_MB = num_params * 4 / 1024  # Approximate size in MB (assuming 4 bytes per parameter)\n",
    "print(f\"Approx model size: {param_size_MB:.2f} MB\")"
   ]
  },
  {
   "cell_type": "code",
   "execution_count": 27,
   "id": "84f7728d",
   "metadata": {},
   "outputs": [
    {
     "name": "stdout",
     "output_type": "stream",
     "text": [
      "Epoch 1/20, Loss: 0.6844\n",
      "Epoch 2/20, Loss: 0.6770\n",
      "Epoch 3/20, Loss: 0.6770\n",
      "Epoch 4/20, Loss: 0.6769\n",
      "Epoch 5/20, Loss: 0.6771\n",
      "Epoch 6/20, Loss: 0.6770\n",
      "Epoch 7/20, Loss: 0.6769\n",
      "Epoch 8/20, Loss: 0.6769\n",
      "Epoch 9/20, Loss: 0.6768\n",
      "Epoch 10/20, Loss: 0.6767\n",
      "Epoch 11/20, Loss: 0.6768\n",
      "Epoch 12/20, Loss: 0.6768\n",
      "Epoch 13/20, Loss: 0.6767\n",
      "Epoch 14/20, Loss: 0.6770\n",
      "Epoch 15/20, Loss: 0.6769\n",
      "Epoch 16/20, Loss: 0.6770\n",
      "Epoch 17/20, Loss: 0.6769\n",
      "Epoch 18/20, Loss: 0.6770\n",
      "Epoch 19/20, Loss: 0.6771\n",
      "Epoch 20/20, Loss: 0.6767\n"
     ]
    }
   ],
   "source": [
    "# Training loop with losses stored  in a list\n",
    "train_losses = []\n",
    "num_epochs = 20\n",
    "for epoch in range(num_epochs):\n",
    "    model.train()\n",
    "    running_loss = 0.0\n",
    "    for inputs, targets in dataloader:\n",
    "        optimizer.zero_grad()\n",
    "        outputs = model(inputs)\n",
    "        loss = criterion(outputs, targets)\n",
    "        loss.backward()\n",
    "        optimizer.step()\n",
    "        running_loss += loss.item()\n",
    "    avg_loss = running_loss / len(dataloader)\n",
    "    train_losses.append(avg_loss)\n",
    "    print(f\"Epoch {epoch+1}/{num_epochs}, Loss: {avg_loss:.4f}\")"
   ]
  },
  {
   "cell_type": "code",
   "execution_count": 28,
   "id": "fa8df864",
   "metadata": {},
   "outputs": [
    {
     "data": {
      "image/png": "[encoded data removed]",
      "text/plain": [
       "<Figure size 640x480 with 1 Axes>"
      ]
     },
     "metadata": {},
     "output_type": "display_data"
    }
   ],
   "source": [
    "import matplotlib.pyplot as plt\n",
    "plt.plot(train_losses)\n",
    "plt.xlabel('Epoch')\n",
    "plt.ylabel('Loss')\n",
    "plt.title('Training Loss')\n",
    "plt.show()"
   ]
  },
  {
   "cell_type": "code",
   "execution_count": null,
   "id": "5caf1c2c",
   "metadata": {},
   "outputs": [],
   "source": []
  }
 ],
 "metadata": {
  "kernelspec": {
   "display_name": "vbf_ditau",
   "language": "python",
   "name": "python3"
  },
  "language_info": {
   "codemirror_mode": {
    "name": "ipython",
    "version": 3
   },
   "file_extension": ".py",
   "mimetype": "text/x-python",
   "name": "python",
   "nbconvert_exporter": "python",
   "pygments_lexer": "ipython3",
   "version": "3.12.2"
  }
 },
 "nbformat": 4,
 "nbformat_minor": 5
}
